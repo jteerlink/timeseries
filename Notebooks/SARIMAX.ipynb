{
 "cells": [
  {
   "cell_type": "code",
   "execution_count": 3,
   "metadata": {},
   "outputs": [],
   "source": [
    "import pandas as pd\n",
    "from sqlalchemy import create_engine\n",
    "import urllib\n",
    "\n",
    "\n",
    "\n",
    "params = urllib.parse.quote_plus('DRIVER={SQL Server Native Client 11.0};Server=gmcsql12\\datawhs;Trusted_Connection=yes;')\n",
    "\n",
    "engine = create_engine(\"mssql+pyodbc:///?odbc_connect=%s\" % params)"
   ]
  },
  {
   "cell_type": "code",
   "execution_count": 5,
   "metadata": {},
   "outputs": [],
   "source": [
    "df = pd.read_sql(\"\"\"select custnum,date\n",
    "                    ,sum(sales) OVER (PARTITION BY custnum \n",
    "                                      order by custnum,date \n",
    "                                      rows 11 PRECEDING) as R12Sales\n",
    "                     from gmlsql2hou.invplannersapp.dbo.TSdata_JT \n",
    "                     order by custnum,date\"\"\"\n",
    "                 ,con=engine)\n",
    "\n",
    "df['date'] = pd.to_datetime(df['date'],yearfirst=True)\n",
    "df = df[(df['date'].dt.year >= 2016)]\n",
    "\n"
   ]
  },
  {
   "cell_type": "code",
   "execution_count": 27,
   "metadata": {},
   "outputs": [
    {
     "data": {
      "text/html": [
       "<div>\n",
       "<style scoped>\n",
       "    .dataframe tbody tr th:only-of-type {\n",
       "        vertical-align: middle;\n",
       "    }\n",
       "\n",
       "    .dataframe tbody tr th {\n",
       "        vertical-align: top;\n",
       "    }\n",
       "\n",
       "    .dataframe thead th {\n",
       "        text-align: right;\n",
       "    }\n",
       "</style>\n",
       "<table border=\"1\" class=\"dataframe\">\n",
       "  <thead>\n",
       "    <tr style=\"text-align: right;\">\n",
       "      <th></th>\n",
       "      <th>custnum</th>\n",
       "      <th>date</th>\n",
       "      <th>R12Sales</th>\n",
       "    </tr>\n",
       "  </thead>\n",
       "  <tbody>\n",
       "    <tr>\n",
       "      <th>12</th>\n",
       "      <td>100016</td>\n",
       "      <td>2016-01-01</td>\n",
       "      <td>8812.99</td>\n",
       "    </tr>\n",
       "    <tr>\n",
       "      <th>13</th>\n",
       "      <td>100016</td>\n",
       "      <td>2016-02-01</td>\n",
       "      <td>8520.41</td>\n",
       "    </tr>\n",
       "    <tr>\n",
       "      <th>14</th>\n",
       "      <td>100016</td>\n",
       "      <td>2016-03-01</td>\n",
       "      <td>8573.56</td>\n",
       "    </tr>\n",
       "    <tr>\n",
       "      <th>15</th>\n",
       "      <td>100016</td>\n",
       "      <td>2016-04-01</td>\n",
       "      <td>10848.33</td>\n",
       "    </tr>\n",
       "    <tr>\n",
       "      <th>16</th>\n",
       "      <td>100016</td>\n",
       "      <td>2016-05-01</td>\n",
       "      <td>16495.14</td>\n",
       "    </tr>\n",
       "  </tbody>\n",
       "</table>\n",
       "</div>"
      ],
      "text/plain": [
       "   custnum       date  R12Sales\n",
       "12  100016 2016-01-01   8812.99\n",
       "13  100016 2016-02-01   8520.41\n",
       "14  100016 2016-03-01   8573.56\n",
       "15  100016 2016-04-01  10848.33\n",
       "16  100016 2016-05-01  16495.14"
      ]
     },
     "execution_count": 27,
     "metadata": {},
     "output_type": "execute_result"
    }
   ],
   "source": [
    "df.head()"
   ]
  },
  {
   "cell_type": "code",
   "execution_count": 32,
   "metadata": {},
   "outputs": [],
   "source": [
    "test = df[df.custnum=='100016'].drop(columns='custnum').set_index('date',drop=True)\n",
    "from statsmodels.tsa.holtwinters import ExponentialSmoothing,HoltWintersResults\n",
    "\n",
    "import datetime as dt\n",
    "import numpy as np\n",
    "import matplotlib.pyplot as plt"
   ]
  },
  {
   "cell_type": "code",
   "execution_count": 46,
   "metadata": {},
   "outputs": [],
   "source": [
    "modeltest = ExponentialSmoothing(test.R12Sales,trend='add',seasonal='add',seasonal_periods=12,freq='MS')\n",
    "\n",
    "fit2 = modeltest.fit(use_boxcox=True)\n",
    "\n",
    "start = '2019-01-01'\n",
    "end = '2019-12-01'\n",
    "\n",
    "predicttest = fit2.predict(start=start,end=end)\n",
    "\n",
    "predtest = pd.DataFrame(data=predicttest).rename(columns={0:'Equipsales'})\n",
    "\n"
   ]
  },
  {
   "cell_type": "code",
   "execution_count": 47,
   "metadata": {},
   "outputs": [
    {
     "data": {
      "text/plain": [
       "[<matplotlib.lines.Line2D at 0x153d5b38>]"
      ]
     },
     "execution_count": 47,
     "metadata": {},
     "output_type": "execute_result"
    },
    {
     "data": {
      "image/png": "[encoded data removed]",
      "text/plain": [
       "<Figure size 864x576 with 1 Axes>"
      ]
     },
     "metadata": {
      "needs_background": "light"
     },
     "output_type": "display_data"
    }
   ],
   "source": [
    "plt.figure(figsize=[12,8])\n",
    "plt.plot(test[:-1])\n",
    "plt.plot(predtest)"
   ]
  }
 ],
 "metadata": {
  "kernelspec": {
   "display_name": "Python 3",
   "language": "python",
   "name": "python3"
  },
  "language_info": {
   "codemirror_mode": {
    "name": "ipython",
    "version": 3
   },
   "file_extension": ".py",
   "mimetype": "text/x-python",
   "name": "python",
   "nbconvert_exporter": "python",
   "pygments_lexer": "ipython3",
   "version": "3.7.0"
  }
 },
 "nbformat": 4,
 "nbformat_minor": 2
}
