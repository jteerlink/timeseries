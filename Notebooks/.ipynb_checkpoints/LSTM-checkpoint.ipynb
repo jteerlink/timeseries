{
 "cells": [
  {
   "cell_type": "code",
   "execution_count": 20,
   "metadata": {},
   "outputs": [],
   "source": [
    "import pandas as pd\n",
    "from sqlalchemy import create_engine\n",
    "import urllib\n",
    "import numpy as np"
   ]
  },
  {
   "cell_type": "code",
   "execution_count": 20,
   "metadata": {},
   "outputs": [],
   "source": [
    "params = urllib.parse.quote_plus('DRIVER={SQL Server Native Client 11.0};Server=gmcsql12\\datawhs;Trusted_Connection=yes;')\n",
    "\n",
    "engine = create_engine(\"mssql+pyodbc:///?odbc_connect=%s\" % params)"
   ]
  },
  {
   "cell_type": "code",
   "execution_count": 8,
   "metadata": {},
   "outputs": [],
   "source": [
    "df = pd.read_sql(\"\"\"select custnum,date\n",
    "                    ,sum(sales) OVER (PARTITION BY custnum \n",
    "                                      order by custnum,date \n",
    "                                      rows 11 PRECEDING) as R12Sales\n",
    "                     from gmlsql2hou.invplannersapp.dbo.TSdata_JT \n",
    "                     order by custnum,date\"\"\"\n",
    "                 ,con=engine)\n",
    "\n",
    "df['date'] = pd.to_datetime(df['date'],yearfirst=True)\n",
    "df = df[(df['date'].dt.year >= 2016)]\n"
   ]
  },
  {
   "cell_type": "code",
   "execution_count": 9,
   "metadata": {},
   "outputs": [
    {
     "data": {
      "text/html": [
       "<div>\n",
       "<style scoped>\n",
       "    .dataframe tbody tr th:only-of-type {\n",
       "        vertical-align: middle;\n",
       "    }\n",
       "\n",
       "    .dataframe tbody tr th {\n",
       "        vertical-align: top;\n",
       "    }\n",
       "\n",
       "    .dataframe thead th {\n",
       "        text-align: right;\n",
       "    }\n",
       "</style>\n",
       "<table border=\"1\" class=\"dataframe\">\n",
       "  <thead>\n",
       "    <tr style=\"text-align: right;\">\n",
       "      <th></th>\n",
       "      <th>custnum</th>\n",
       "      <th>date</th>\n",
       "      <th>R12Sales</th>\n",
       "    </tr>\n",
       "  </thead>\n",
       "  <tbody>\n",
       "    <tr>\n",
       "      <th>12</th>\n",
       "      <td>100016</td>\n",
       "      <td>2016-01-01</td>\n",
       "      <td>8812.99</td>\n",
       "    </tr>\n",
       "    <tr>\n",
       "      <th>13</th>\n",
       "      <td>100016</td>\n",
       "      <td>2016-02-01</td>\n",
       "      <td>8520.41</td>\n",
       "    </tr>\n",
       "    <tr>\n",
       "      <th>14</th>\n",
       "      <td>100016</td>\n",
       "      <td>2016-03-01</td>\n",
       "      <td>8573.56</td>\n",
       "    </tr>\n",
       "    <tr>\n",
       "      <th>15</th>\n",
       "      <td>100016</td>\n",
       "      <td>2016-04-01</td>\n",
       "      <td>10848.33</td>\n",
       "    </tr>\n",
       "    <tr>\n",
       "      <th>16</th>\n",
       "      <td>100016</td>\n",
       "      <td>2016-05-01</td>\n",
       "      <td>16495.14</td>\n",
       "    </tr>\n",
       "    <tr>\n",
       "      <th>17</th>\n",
       "      <td>100016</td>\n",
       "      <td>2016-06-01</td>\n",
       "      <td>19577.91</td>\n",
       "    </tr>\n",
       "    <tr>\n",
       "      <th>18</th>\n",
       "      <td>100016</td>\n",
       "      <td>2016-07-01</td>\n",
       "      <td>20576.40</td>\n",
       "    </tr>\n",
       "    <tr>\n",
       "      <th>19</th>\n",
       "      <td>100016</td>\n",
       "      <td>2016-08-01</td>\n",
       "      <td>27448.66</td>\n",
       "    </tr>\n",
       "    <tr>\n",
       "      <th>20</th>\n",
       "      <td>100016</td>\n",
       "      <td>2016-09-01</td>\n",
       "      <td>27646.77</td>\n",
       "    </tr>\n",
       "    <tr>\n",
       "      <th>21</th>\n",
       "      <td>100016</td>\n",
       "      <td>2016-10-01</td>\n",
       "      <td>26421.61</td>\n",
       "    </tr>\n",
       "    <tr>\n",
       "      <th>22</th>\n",
       "      <td>100016</td>\n",
       "      <td>2016-11-01</td>\n",
       "      <td>28132.49</td>\n",
       "    </tr>\n",
       "    <tr>\n",
       "      <th>23</th>\n",
       "      <td>100016</td>\n",
       "      <td>2016-12-01</td>\n",
       "      <td>28132.49</td>\n",
       "    </tr>\n",
       "    <tr>\n",
       "      <th>24</th>\n",
       "      <td>100016</td>\n",
       "      <td>2017-01-01</td>\n",
       "      <td>26565.76</td>\n",
       "    </tr>\n",
       "    <tr>\n",
       "      <th>25</th>\n",
       "      <td>100016</td>\n",
       "      <td>2017-02-01</td>\n",
       "      <td>28104.03</td>\n",
       "    </tr>\n",
       "    <tr>\n",
       "      <th>26</th>\n",
       "      <td>100016</td>\n",
       "      <td>2017-03-01</td>\n",
       "      <td>31351.09</td>\n",
       "    </tr>\n",
       "    <tr>\n",
       "      <th>27</th>\n",
       "      <td>100016</td>\n",
       "      <td>2017-04-01</td>\n",
       "      <td>29978.91</td>\n",
       "    </tr>\n",
       "    <tr>\n",
       "      <th>28</th>\n",
       "      <td>100016</td>\n",
       "      <td>2017-05-01</td>\n",
       "      <td>27408.50</td>\n",
       "    </tr>\n",
       "    <tr>\n",
       "      <th>29</th>\n",
       "      <td>100016</td>\n",
       "      <td>2017-06-01</td>\n",
       "      <td>30657.40</td>\n",
       "    </tr>\n",
       "    <tr>\n",
       "      <th>30</th>\n",
       "      <td>100016</td>\n",
       "      <td>2017-07-01</td>\n",
       "      <td>32573.42</td>\n",
       "    </tr>\n",
       "    <tr>\n",
       "      <th>31</th>\n",
       "      <td>100016</td>\n",
       "      <td>2017-08-01</td>\n",
       "      <td>26105.50</td>\n",
       "    </tr>\n",
       "  </tbody>\n",
       "</table>\n",
       "</div>"
      ],
      "text/plain": [
       "   custnum       date  R12Sales\n",
       "12  100016 2016-01-01   8812.99\n",
       "13  100016 2016-02-01   8520.41\n",
       "14  100016 2016-03-01   8573.56\n",
       "15  100016 2016-04-01  10848.33\n",
       "16  100016 2016-05-01  16495.14\n",
       "17  100016 2016-06-01  19577.91\n",
       "18  100016 2016-07-01  20576.40\n",
       "19  100016 2016-08-01  27448.66\n",
       "20  100016 2016-09-01  27646.77\n",
       "21  100016 2016-10-01  26421.61\n",
       "22  100016 2016-11-01  28132.49\n",
       "23  100016 2016-12-01  28132.49\n",
       "24  100016 2017-01-01  26565.76\n",
       "25  100016 2017-02-01  28104.03\n",
       "26  100016 2017-03-01  31351.09\n",
       "27  100016 2017-04-01  29978.91\n",
       "28  100016 2017-05-01  27408.50\n",
       "29  100016 2017-06-01  30657.40\n",
       "30  100016 2017-07-01  32573.42\n",
       "31  100016 2017-08-01  26105.50"
      ]
     },
     "execution_count": 9,
     "metadata": {},
     "output_type": "execute_result"
    }
   ],
   "source": [
    "df.head(20)"
   ]
  },
  {
   "cell_type": "code",
   "execution_count": 30,
   "metadata": {},
   "outputs": [
    {
     "data": {
      "text/plain": [
       "array([[[ 8812.99],\n",
       "        [ 8520.41],\n",
       "        [ 8573.56],\n",
       "        [10848.33],\n",
       "        [16495.14],\n",
       "        [19577.91],\n",
       "        [20576.4 ],\n",
       "        [27448.66],\n",
       "        [27646.77],\n",
       "        [26421.61],\n",
       "        [28132.49],\n",
       "        [28132.49],\n",
       "        [26565.76],\n",
       "        [28104.03],\n",
       "        [31351.09],\n",
       "        [29978.91],\n",
       "        [27408.5 ],\n",
       "        [30657.4 ],\n",
       "        [32573.42],\n",
       "        [26105.5 ],\n",
       "        [28406.57],\n",
       "        [38398.28],\n",
       "        [45126.8 ],\n",
       "        [51076.81],\n",
       "        [52069.67],\n",
       "        [50364.12],\n",
       "        [47273.  ],\n",
       "        [46832.96],\n",
       "        [48621.38],\n",
       "        [45891.5 ],\n",
       "        [43584.52],\n",
       "        [43353.92],\n",
       "        [38921.46],\n",
       "        [31601.24],\n",
       "        [23748.5 ],\n",
       "        [19792.83],\n",
       "        [25822.08],\n",
       "        [26339.65],\n",
       "        [27272.69],\n",
       "        [27562.61]]])"
      ]
     },
     "execution_count": 30,
     "metadata": {},
     "output_type": "execute_result"
    }
   ],
   "source": [
    "# list = []\n",
    "\n",
    "# for i in set(df.custum):\n",
    "    \n",
    "    \n",
    "data = df[df['custnum']=='100016']['R12Sales']\n",
    "\n",
    "\n",
    "tsdata"
   ]
  },
  {
   "cell_type": "code",
   "execution_count": 27,
   "metadata": {},
   "outputs": [
    {
     "data": {
      "text/plain": [
       "(1, 40, 1)"
      ]
     },
     "execution_count": 27,
     "metadata": {},
     "output_type": "execute_result"
    }
   ],
   "source": [
    "data2 = df[df['custnum']=='135841']['R12Sales']\n",
    "tsdata2 = np.asarray(data).reshape(1,len(data),1)\n",
    "tsdata2.shape"
   ]
  },
  {
   "cell_type": "code",
   "execution_count": null,
   "metadata": {},
   "outputs": [],
   "source": [
    "# iterate over each customer number and append via vstack function\n",
    "\n",
    "newdata = np.vstack((tsdata,tsdata2))"
   ]
  },
  {
   "cell_type": "code",
   "execution_count": 34,
   "metadata": {},
   "outputs": [],
   "source": []
  },
  {
   "cell_type": "code",
   "execution_count": 35,
   "metadata": {},
   "outputs": [
    {
     "data": {
      "text/plain": [
       "(2, 40, 1)"
      ]
     },
     "execution_count": 35,
     "metadata": {},
     "output_type": "execute_result"
    }
   ],
   "source": [
    "newdata.shape"
   ]
  },
  {
   "cell_type": "code",
   "execution_count": null,
   "metadata": {},
   "outputs": [],
   "source": []
  }
 ],
 "metadata": {
  "kernelspec": {
   "display_name": "Python 3",
   "language": "python",
   "name": "python3"
  },
  "language_info": {
   "codemirror_mode": {
    "name": "ipython",
    "version": 3
   },
   "file_extension": ".py",
   "mimetype": "text/x-python",
   "name": "python",
   "nbconvert_exporter": "python",
   "pygments_lexer": "ipython3",
   "version": "3.7.0"
  }
 },
 "nbformat": 4,
 "nbformat_minor": 2
}
